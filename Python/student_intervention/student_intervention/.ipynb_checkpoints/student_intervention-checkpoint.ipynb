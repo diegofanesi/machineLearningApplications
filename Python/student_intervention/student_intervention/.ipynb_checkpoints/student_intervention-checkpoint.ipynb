{
 "cells": [
  {
   "cell_type": "code",
   "execution_count": null,
   "metadata": {
    "collapsed": true
   },
   "outputs": [],
   "source": [
    "# Project 2: Supervised Learning\n",
    "### Building a Student Intervention System"
   ]
  },
  {
   "cell_type": "markdown",
   "metadata": {},
   "source": [
    "## 1. Classification vs Regression\n",
    "\n",
    "Your goal is to identify students who might need early intervention - which type of supervised machine learning problem is this, classification or regression? Why?"
   ]
  },
  {
   "cell_type": "markdown",
   "metadata": {},
   "source": [
    "## 2. Exploring the Data\n",
    "\n",
    "Let's go ahead and read in the student dataset first.\n",
    "\n",
    "_To execute a code cell, click inside it and press **Shift+Enter**._"
   ]
  },
  {
   "cell_type": "code",
   "execution_count": 1,
   "metadata": {
    "collapsed": false
   },
   "outputs": [
    {
     "name": "stdout",
     "output_type": "stream",
     "text": [
      "['', '/usr/lib/python27.zip', '/usr/lib/python2.7', '/usr/lib/python2.7/plat-linux2', '/usr/lib/python2.7/lib-tk', '/usr/lib/python2.7/lib-old', '/usr/lib/python2.7/lib-dynload', '/usr/lib/python2.7/site-packages', '/usr/lib/python2.7/site-packages/gtk-2.0', '/usr/lib/python2.7/site-packages/wx-3.0-gtk2', '/usr/lib/python2.7/site-packages/IPython/extensions', '/home/diego/.ipython', '/home/diego/devel/scikit-learn']\n"
     ]
    },
    {
     "name": "stderr",
     "output_type": "stream",
     "text": [
      "/home/diego/devel/scikit-learn/sklearn/cross_validation.py:43: DeprecationWarning: This module has been deprecated in favor of the model_selection module into which all the refactored classes and functions are moved. Also note that the interface of the new CV iterators are different from that of this module. This module will be removed in 0.20.\n",
      "  \"This module will be removed in 0.20.\", DeprecationWarning)\n"
     ]
    }
   ],
   "source": [
    "# Import libraries\n",
    "import sys\n",
    "#I am using a sklearn library from git. I need to add the path\n",
    "sys.path.append('/home/diego/devel/scikit-learn')\n",
    "print sys.path\n",
    "\n",
    "import numpy as np\n",
    "import scipy\n",
    "import pandas as pd\n",
    "from sklearn.cross_validation import train_test_split"
   ]
  },
  {
   "cell_type": "code",
   "execution_count": 2,
   "metadata": {
    "collapsed": false
   },
   "outputs": [
    {
     "name": "stdout",
     "output_type": "stream",
     "text": [
      "Student data read successfully!\n"
     ]
    }
   ],
   "source": [
    "# Read student data\n",
    "student_data = pd.read_csv(\"student-data.csv\")\n",
    "print \"Student data read successfully!\"\n",
    "# Note: The last column 'passed' is the target/label, all other are feature columns"
   ]
  },
  {
   "cell_type": "markdown",
   "metadata": {},
   "source": [
    "Now, can you find out the following facts about the dataset?\n",
    "- Total number of students\n",
    "- Number of students who passed\n",
    "- Number of students who failed\n",
    "- Graduation rate of the class (%)\n",
    "- Number of features\n",
    "\n",
    "_Use the code block below to compute these values. Instructions/steps are marked using **TODO**s._"
   ]
  },
  {
   "cell_type": "code",
   "execution_count": 3,
   "metadata": {
    "collapsed": false
   },
   "outputs": [
    {
     "name": "stdout",
     "output_type": "stream",
     "text": [
      "Total number of students: 395\n",
      "Number of students who passed: 265\n",
      "Number of students who failed: 130\n",
      "Number of features: 30\n",
      "Graduation rate of the class: 67.09%\n"
     ]
    }
   ],
   "source": [
    "# TODO: Compute desired values - replace each '?' with an appropriate expression/function call\n",
    "n_students,n_features = np.shape(student_data)\n",
    "n_features = n_features-1\n",
    "target = student_data.as_matrix([\"passed\"])\n",
    "n_passed = target.tolist().count([\"yes\"])\n",
    "n_failed = target.tolist().count([\"no\"])\n",
    "grad_rate = float(n_passed)/float(n_students)*100.0\n",
    "print \"Total number of students: {}\".format(n_students)\n",
    "print \"Number of students who passed: {}\".format(n_passed)\n",
    "print \"Number of students who failed: {}\".format(n_failed)\n",
    "print \"Number of features: {}\".format(n_features)\n",
    "print \"Graduation rate of the class: {:.2f}%\".format(grad_rate)"
   ]
  },
  {
   "cell_type": "markdown",
   "metadata": {},
   "source": [
    "## 3. Preparing the Data\n",
    "In this section, we will prepare the data for modeling, training and testing.\n",
    "\n",
    "### Identify feature and target columns\n",
    "It is often the case that the data you obtain contains non-numeric features. This can be a problem, as most machine learning algorithms expect numeric data to perform computations with.\n",
    "\n",
    "Let's first separate our data into feature and target columns, and see if any features are non-numeric.<br/>\n",
    "**Note**: For this dataset, the last column (`'passed'`) is the target or label we are trying to predict."
   ]
  },
  {
   "cell_type": "code",
   "execution_count": 42,
   "metadata": {
    "collapsed": false
   },
   "outputs": [
    {
     "name": "stdout",
     "output_type": "stream",
     "text": [
      "Feature column(s):-\n",
      "['school', 'sex', 'age', 'address', 'famsize', 'Pstatus', 'Medu', 'Fedu', 'Mjob', 'Fjob', 'reason', 'guardian', 'traveltime', 'studytime', 'failures', 'schoolsup', 'famsup', 'paid', 'activities', 'nursery', 'higher', 'internet', 'romantic', 'famrel', 'freetime', 'goout', 'Dalc', 'Walc', 'health', 'absences']\n",
      "Target column: passed\n",
      "\n",
      "Feature values:-\n",
      "  school sex  age address famsize Pstatus  Medu  Fedu     Mjob      Fjob  \\\n",
      "0     GP   F   18       U     GT3       A     4     4  at_home   teacher   \n",
      "1     GP   F   17       U     GT3       T     1     1  at_home     other   \n",
      "2     GP   F   15       U     LE3       T     1     1  at_home     other   \n",
      "3     GP   F   15       U     GT3       T     4     2   health  services   \n",
      "4     GP   F   16       U     GT3       T     3     3    other     other   \n",
      "\n",
      "    ...    higher internet  romantic  famrel  freetime goout Dalc Walc health  \\\n",
      "0   ...       yes       no        no       4         3     4    1    1      3   \n",
      "1   ...       yes      yes        no       5         3     3    1    1      3   \n",
      "2   ...       yes      yes        no       4         3     2    2    3      3   \n",
      "3   ...       yes      yes       yes       3         2     2    1    1      5   \n",
      "4   ...       yes       no        no       4         3     2    1    2      5   \n",
      "\n",
      "  absences  \n",
      "0        6  \n",
      "1        4  \n",
      "2       10  \n",
      "3        2  \n",
      "4        4  \n",
      "\n",
      "[5 rows x 30 columns]\n"
     ]
    }
   ],
   "source": [
    "# Extract feature (X) and target (y) columns\n",
    "feature_cols = list(student_data.columns[:-1])  # all columns but last are features\n",
    "target_col = student_data.columns[-1]  # last column is the target/label\n",
    "print \"Feature column(s):-\\n{}\".format(feature_cols)\n",
    "print \"Target column: {}\".format(target_col)\n",
    "\n",
    "X_all = student_data[feature_cols]  # feature values for all students\n",
    "y_all = pd.DataFrame(student_data[target_col])  # corresponding targets/labels\n",
    "\n",
    "print \"\\nFeature values:-\"\n",
    "print X_all.head()  # print the first 5 rows"
   ]
  },
  {
   "cell_type": "markdown",
   "metadata": {},
   "source": [
    "### Preprocess feature columns\n",
    "\n",
    "As you can see, there are several non-numeric columns that need to be converted! Many of them are simply `yes`/`no`, e.g. `internet`. These can be reasonably converted into `1`/`0` (binary) values.\n",
    "\n",
    "Other columns, like `Mjob` and `Fjob`, have more than two values, and are known as _categorical variables_. The recommended way to handle such a column is to create as many columns as possible values (e.g. `Fjob_teacher`, `Fjob_other`, `Fjob_services`, etc.), and assign a `1` to one of them and `0` to all others.\n",
    "\n",
    "These generated columns are sometimes called _dummy variables_, and we will use the [`pandas.get_dummies()`](http://pandas.pydata.org/pandas-docs/stable/generated/pandas.get_dummies.html?highlight=get_dummies#pandas.get_dummies) function to perform this transformation."
   ]
  },
  {
   "cell_type": "code",
   "execution_count": 5,
   "metadata": {
    "collapsed": false
   },
   "outputs": [
    {
     "name": "stdout",
     "output_type": "stream",
     "text": [
      "Processed feature columns (48):-\n",
      "['school_GP', 'school_MS', 'sex_F', 'sex_M', 'age', 'address_R', 'address_U', 'famsize_GT3', 'famsize_LE3', 'Pstatus_A', 'Pstatus_T', 'Medu', 'Fedu', 'Mjob_at_home', 'Mjob_health', 'Mjob_other', 'Mjob_services', 'Mjob_teacher', 'Fjob_at_home', 'Fjob_health', 'Fjob_other', 'Fjob_services', 'Fjob_teacher', 'reason_course', 'reason_home', 'reason_other', 'reason_reputation', 'guardian_father', 'guardian_mother', 'guardian_other', 'traveltime', 'studytime', 'failures', 'schoolsup', 'famsup', 'paid', 'activities', 'nursery', 'higher', 'internet', 'romantic', 'famrel', 'freetime', 'goout', 'Dalc', 'Walc', 'health', 'absences']\n"
     ]
    }
   ],
   "source": [
    "# Preprocess feature columns\n",
    "def preprocess_features(X):\n",
    "    outX = pd.DataFrame(index=X.index)  # output dataframe, initially empty\n",
    "    # Check each column\n",
    "    for col, col_data in X.iteritems(): \n",
    "        if col_data.dtype == object:\n",
    "                col_data = col_data.replace(['yes', 'no'], [1, 0])\n",
    "            # Note: This should change the data type for yes/no columns to int\n",
    "\n",
    "            # If still non-numeric, convert to one or more dummy variables\n",
    "        if col_data.dtype == object:\n",
    "                col_data = pd.get_dummies(col_data, prefix=col)  # e.g. 'school' => 'school_GP', 'school_MS'\n",
    "\n",
    "        outX = outX.join(col_data)  # collect column(s) in output dataframe\n",
    "\n",
    "    return outX\n",
    "\n",
    "\n",
    "X_all = preprocess_features(X_all)\n",
    "y_all = preprocess_features(y_all)\n",
    "\n",
    "        \n",
    "print \"Processed feature columns ({}):-\\n{}\".format(len(X_all.columns), list(X_all.columns))\n"
   ]
  },
  {
   "cell_type": "markdown",
   "metadata": {},
   "source": [
    "### Split data into training and test sets\n",
    "\n",
    "So far, we have converted all _categorical_ features into numeric values. In this next step, we split the data (both features and corresponding labels) into training and test sets."
   ]
  },
  {
   "cell_type": "code",
   "execution_count": 6,
   "metadata": {
    "collapsed": false,
    "scrolled": true
   },
   "outputs": [
    {
     "name": "stdout",
     "output_type": "stream",
     "text": [
      "Training set: 300 samples\n",
      "Test set: 95 samples\n"
     ]
    }
   ],
   "source": [
    "# First, decide how many training vs test samples you want\n",
    "num_all = student_data.shape[0]  # same as len(student_data)\n",
    "num_train = 300  # about 75% of the data\n",
    "num_test = num_all - num_train\n",
    "\n",
    "# TODO: Then, select features (X) and corresponding labels (y) for the training and test sets\n",
    "# Note: Shuffle the data or randomly select samples to avoid any bias due to ordering in the dataset\n",
    "X_train, X_test, y_train, y_test = train_test_split(X_all.as_matrix(),y_all.as_matrix(),test_size=0.24,train_size=0.76) \n",
    "print \"Training set: {} samples\".format(X_train.shape[0])\n",
    "print \"Test set: {} samples\".format(X_test.shape[0])\n",
    "# Note: If you need a validation set, extract it from within training data"
   ]
  },
  {
   "cell_type": "markdown",
   "metadata": {},
   "source": [
    "## 4. Training and Evaluating Models\n",
    "Choose 3 supervised learning models that are available in scikit-learn, and appropriate for this problem. For each model:\n",
    "\n",
    "- What are the general applications of this model? What are its strengths and weaknesses?\n",
    "    <p style=\"color:green;\">Classification trees are characterized by low complexity and scale very well with an high volume of data. However, they are also characterized by an high variance depending on the little variances on the dataset (a mistake on a split on the top of the tree will affect the overall performances of the model) and the predictions are not as accurate as many other models due to their structure.</p>\n",
    "- Given what you know about the data so far, why did you choose this model to apply?\n",
    "<p style=\"color:green;\">As first choice, I decided to select a low complexity model and see how performs on the data. If the pattern is fairly easy to identify from the data, this model will perform well and it will probably by one of the most performant models due to its low complexity.</p>\n",
    "- Fit this model to the training data, try to predict labels (for both training and test sets), and measure the F<sub>1</sub> score. Repeat this process with different training set sizes (100, 200, 300), keeping test set constant.\n",
    "\n",
    "Produce a table showing training time, prediction time, F<sub>1</sub> score on training set and F<sub>1</sub> score on test set, for each training set size.\n",
    "\n",
    "Note: You need to produce 3 such tables - one for each model."
   ]
  },
  {
   "cell_type": "code",
   "execution_count": 12,
   "metadata": {
    "collapsed": false
   },
   "outputs": [
    {
     "name": "stdout",
     "output_type": "stream",
     "text": [
      "Training GradientBoostingClassifier...\n",
      "Done!\n",
      "Training time (secs): 0.068\n",
      "GradientBoostingClassifier(init=None, learning_rate=0.1, loss='deviance',\n",
      "              max_depth=None, max_features=None, max_leaf_nodes=2,\n",
      "              min_samples_leaf=1, min_samples_split=1,\n",
      "              min_weight_fraction_leaf=0.0, n_estimators=100, presort=True,\n",
      "              random_state=None, subsample=1.0, verbose=0,\n",
      "              warm_start=False)\n"
     ]
    }
   ],
   "source": [
    "# Train a model\n",
    "import time\n",
    "\n",
    "def train_classifier(clf, X_train, y_train):\n",
    "    print \"Training {}...\".format(clf.__class__.__name__)\n",
    "    start = time.time()\n",
    "    clf.fit(X_train, y_train)\n",
    "    end = time.time()\n",
    "    print \"Done!\\nTraining time (secs): {:.3f}\".format(end - start)\n",
    "    return (end - start)\n",
    "\n",
    "# TODO: Choose a model, import it and instantiate an object\n",
    "from sklearn.ensemble import GradientBoostingClassifier\n",
    "from sklearn.metrics import f1_score,make_scorer\n",
    "from sklearn.grid_search import GridSearchCV\n",
    "\n",
    "clf = GradientBoostingClassifier(  n_estimators=100, max_features=None,  max_leaf_nodes=2, \n",
    "                                 max_depth=None, min_samples_leaf=1, min_samples_split=1,presort=True  )\n",
    "\n",
    "# Fit model to training data\n",
    "train_classifier(clf, X_train, y_train.reshape(y_train.shape[0]))  # note: using entire training set here\n",
    "print clf  # you can inspect the learned model by printing it\n",
    "#print clf.best_params_"
   ]
  },
  {
   "cell_type": "code",
   "execution_count": 13,
   "metadata": {
    "collapsed": false
   },
   "outputs": [
    {
     "name": "stdout",
     "output_type": "stream",
     "text": [
      "Predicting labels using GradientBoostingClassifier...\n",
      "Done!\n",
      "Prediction time (secs): 0.001\n",
      "F1 score for training set: 0.83885209713\n"
     ]
    }
   ],
   "source": [
    "# Predict on training set and compute F1 score\n",
    "from sklearn.metrics import f1_score\n",
    "\n",
    "def predict_labels(clf, features, target):\n",
    "    print \"Predicting labels using {}...\".format(clf.__class__.__name__)\n",
    "    start = time.time()\n",
    "    y_pred = clf.predict(features)\n",
    "    end = time.time()\n",
    "    print \"Done!\\nPrediction time (secs): {:.3f}\".format(end - start)\n",
    "    return f1_score(target, y_pred, pos_label=1, average='binary'), (end - start)\n",
    "f1,predtime = predict_labels(clf, X_train, y_train.reshape(y_train.shape[0]))\n",
    "print \"F1 score for training set: {}\".format(f1)\n"
   ]
  },
  {
   "cell_type": "code",
   "execution_count": 14,
   "metadata": {
    "collapsed": false
   },
   "outputs": [
    {
     "name": "stdout",
     "output_type": "stream",
     "text": [
      "Predicting labels using GradientBoostingClassifier...\n",
      "Done!\n",
      "Prediction time (secs): 0.001\n",
      "F1 score for test set: 0.807947019868\n"
     ]
    }
   ],
   "source": [
    "# Predict on test data\n",
    "f1,predtime = predict_labels(clf, X_test, y_test.reshape(y_test.shape[0]))\n",
    "print \"F1 score for test set: {}\".format(f1)"
   ]
  },
  {
   "cell_type": "code",
   "execution_count": 40,
   "metadata": {
    "collapsed": false
   },
   "outputs": [
    {
     "name": "stdout",
     "output_type": "stream",
     "text": [
      "------------------------------------------\n",
      "Training set size: 300\n",
      "Training GradientBoostingClassifier...\n",
      "Done!\n",
      "Training time (secs): 0.054\n",
      "Predicting labels using GradientBoostingClassifier...\n",
      "Done!\n",
      "Prediction time (secs): 0.000\n",
      "Predicting labels using GradientBoostingClassifier...\n",
      "Done!\n",
      "Prediction time (secs): 0.000\n",
      "F1 score for training set: 0.83885209713\n",
      "F1 score for test set: 0.807947019868\n",
      "------------------------------------------\n",
      "Training set size: 200\n",
      "Training GradientBoostingClassifier...\n",
      "Done!\n",
      "Training time (secs): 0.041\n",
      "Predicting labels using GradientBoostingClassifier...\n",
      "Done!\n",
      "Prediction time (secs): 0.000\n",
      "Predicting labels using GradientBoostingClassifier...\n",
      "Done!\n",
      "Prediction time (secs): 0.000\n",
      "F1 score for training set: 0.784688995215\n",
      "F1 score for test set: 0.790697674419\n",
      "------------------------------------------\n",
      "Training set size: 100\n",
      "Training GradientBoostingClassifier...\n",
      "Done!\n",
      "Training time (secs): 0.032\n",
      "Predicting labels using GradientBoostingClassifier...\n",
      "Done!\n",
      "Prediction time (secs): 0.000\n",
      "Predicting labels using GradientBoostingClassifier...\n",
      "Done!\n",
      "Prediction time (secs): 0.000\n",
      "F1 score for training set: 0.848\n",
      "F1 score for test set: 0.766917293233\n"
     ]
    }
   ],
   "source": [
    "# Train and predict using different training set sizes\n",
    "def train_predict(clf, X_train, y_train, X_test, y_test):\n",
    "    print \"------------------------------------------\"\n",
    "    print \"Training set size: {}\".format(len(X_train))\n",
    "    train_time = train_classifier(clf, X_train, y_train)\n",
    "    train_f1_score,prediction_time = predict_labels(clf, X_train, y_train)\n",
    "    test_f1_score,predtime = predict_labels(clf, X_test, y_test)\n",
    "    print \"F1 score for training set: {}\".format(train_f1_score)\n",
    "    print \"F1 score for test set: {}\".format(test_f1_score)\n",
    "    return [len(X_train), train_f1_score, test_f1_score, train_time, prediction_time]\n",
    "\n",
    "# TODO: Run the helper function above for desired subsets of training data\n",
    "# Note: Keep the test set constant\n",
    "\n",
    "# I create a table with all results. To do that, I run the classifier again on the first dataset.\n",
    "classifiers = []\n",
    "\n",
    "clf = GradientBoostingClassifier(  n_estimators=100, max_features=None,  max_leaf_nodes=2, \n",
    "                                 max_depth=None, min_samples_leaf=1, min_samples_split=1,presort=True  )\n",
    "res = train_predict(clf,X_train,y_train.reshape(y_train.shape[0]),X_test,y_test.reshape(y_test.shape[0]))\n",
    "res.insert(0,\"Decision Tree\")\n",
    "classifiers.append(res)\n",
    "\n",
    "\n",
    "#First subset: Data are unbalanced. This might imply poor performances with decision trees. \n",
    "#I create a balanced set and retrain the classifier\n",
    "\n",
    "indexsort = np.argsort(y_train.reshape(300))\n",
    "bal_X_train = X_train[indexsort]\n",
    "bal_X_train = bal_X_train.reshape(X_train.shape)\n",
    "bal_y_train = y_train[indexsort]\n",
    "bal_y_train = bal_y_train.reshape(y_train.shape)\n",
    "\n",
    "bal_n_failed = bal_y_train.tolist().count([0])\n",
    "\n",
    "bal_X_train = bal_X_train[0:(bal_n_failed*2),:]\n",
    "bal_y_train = bal_y_train[0:(bal_n_failed*2)]\n",
    "\n",
    "#not sure if calling fit on the same object it is going to discard the old training data. I create a new object to be sure.\n",
    "clf = GradientBoostingClassifier(  n_estimators=100, max_features=None,  max_leaf_nodes=2, \n",
    "                                 max_depth=None, min_samples_leaf=1, min_samples_split=1,presort=True  )\n",
    "\n",
    "res = train_predict(clf,bal_X_train,bal_y_train.reshape(bal_y_train.shape[0]),X_test,y_test.reshape(y_test.shape[0]))\n",
    "res.insert(0,\"Decision Tree\")\n",
    "classifiers.append(res)\n",
    "\n",
    "#training set of 100 examples\n",
    "\n",
    "small_X_train = X_train[0:100]\n",
    "small_y_train = y_train[0:100]\n",
    "clf = GradientBoostingClassifier(  n_estimators=100, max_features=None,  max_leaf_nodes=2, \n",
    "                                 max_depth=None, min_samples_leaf=1, min_samples_split=1,presort=True  )\n",
    "\n",
    "res = train_predict(clf,small_X_train,small_y_train.reshape(small_y_train.shape[0]),X_test,y_test.reshape(y_test.shape[0]))\n",
    "res.insert(0,\"Decision Tree\")\n",
    "classifiers.append(res)"
   ]
  },
  {
   "cell_type": "code",
   "execution_count": 41,
   "metadata": {
    "collapsed": false
   },
   "outputs": [
    {
     "name": "stdout",
     "output_type": "stream",
     "text": [
      "------------------------------------------\n",
      "Training set size: 300\n",
      "Training MLPClassifier...\n",
      "Done!\n",
      "Training time (secs): 0.009\n",
      "Predicting labels using MLPClassifier...\n",
      "Done!\n",
      "Prediction time (secs): 0.001\n",
      "Predicting labels using MLPClassifier...\n",
      "Done!\n",
      "Prediction time (secs): 0.000\n",
      "F1 score for training set: 0.8\n",
      "F1 score for test set: 0.8125\n",
      "------------------------------------------\n",
      "Training set size: 200\n",
      "Training MLPClassifier...\n",
      "Done!\n",
      "Training time (secs): 0.256\n",
      "Predicting labels using MLPClassifier...\n",
      "Done!\n",
      "Prediction time (secs): 0.001\n",
      "Predicting labels using MLPClassifier...\n",
      "Done!\n",
      "Prediction time (secs): 0.000\n",
      "F1 score for training set: 0.961165048544\n",
      "F1 score for test set: 0.654867256637\n",
      "------------------------------------------\n",
      "Training set size: 100\n",
      "Training MLPClassifier...\n",
      "Done!\n",
      "Training time (secs): 0.191\n",
      "Predicting labels using MLPClassifier...\n",
      "Done!\n",
      "Prediction time (secs): 0.000\n",
      "Predicting labels using MLPClassifier...\n",
      "Done!\n",
      "Prediction time (secs): 0.000\n",
      "F1 score for training set: 0.883333333333\n",
      "F1 score for test set: 0.724409448819\n",
      "###############################################################################################\n",
      "------------------------------------------\n",
      "Training set size: 300\n",
      "Training SVC...\n",
      "Done!\n",
      "Training time (secs): 0.010\n",
      "Predicting labels using SVC...\n",
      "Done!\n",
      "Prediction time (secs): 0.008\n",
      "Predicting labels using SVC...\n",
      "Done!\n",
      "Prediction time (secs): 0.003\n",
      "F1 score for training set: 0.987654320988\n",
      "F1 score for test set: 0.833333333333\n",
      "------------------------------------------\n",
      "Training set size: 200\n",
      "Training SVC...\n",
      "Done!\n",
      "Training time (secs): 0.005\n",
      "Predicting labels using SVC...\n",
      "Done!\n",
      "Prediction time (secs): 0.004\n",
      "Predicting labels using SVC...\n",
      "Done!\n",
      "Prediction time (secs): 0.002\n",
      "F1 score for training set: 1.0\n",
      "F1 score for test set: 0.694214876033\n",
      "------------------------------------------\n",
      "Training set size: 100\n",
      "Training SVC...\n",
      "Done!\n",
      "Training time (secs): 0.002\n",
      "Predicting labels using SVC...\n",
      "Done!\n",
      "Prediction time (secs): 0.001\n",
      "Predicting labels using SVC...\n",
      "Done!\n",
      "Prediction time (secs): 0.001\n",
      "F1 score for training set: 1.0\n",
      "F1 score for test set: 0.826666666667\n",
      "Classifier        train_size    F1_train    F1_test    train_time    pred_time\n",
      "--------------  ------------  ----------  ---------  ------------  -----------\n",
      "Decision Tree            300    0.838852   0.807947    0.053757    0.000389099\n",
      "Decision Tree            200    0.784689   0.790698    0.040925    0.000271082\n",
      "Decision Tree            100    0.848      0.766917    0.0321739   0.000206947\n",
      "Neural Network           300    0.8        0.8125      0.00926995  0.000880003\n",
      "Neural Network           200    0.961165   0.654867    0.255504    0.000601768\n",
      "Neural Network           100    0.883333   0.724409    0.190936    0.000370979\n",
      "SVC                      300    0.987654   0.833333    0.00987315  0.00771499\n",
      "SVC                      200    1          0.694215    0.00475192  0.00360298\n",
      "SVC                      100    1          0.826667    0.00151896  0.000935078\n"
     ]
    }
   ],
   "source": [
    "# TODO: Train and predict using two other models\n",
    "#Second Model: Neural Network\n",
    "from sklearn.neural_network import MLPClassifier\n",
    "\n",
    "from sklearn.svm import SVC\n",
    "\n",
    "from sklearn.model_selection import StratifiedShuffleSplit\n",
    "\n",
    "clf = MLPClassifier(algorithm='l-bfgs',alpha = 0.0001,activation='logistic', hidden_layer_sizes=(24,12,6,3), random_state=1,learning_rate='adaptive',\n",
    "       learning_rate_init=0.1, early_stopping=True)\n",
    "\n",
    "res = train_predict(clf,X_train,y_train.reshape(y_train.shape[0]),X_test,y_test.reshape(y_test.shape[0]))\n",
    "res.insert(0,\"Neural Network\")\n",
    "classifiers.append(res)\n",
    "\n",
    "res = train_predict(clf,bal_X_train,bal_y_train.reshape(bal_y_train.shape[0]),X_test,y_test.reshape(y_test.shape[0]))\n",
    "res.insert(0,\"Neural Network\")\n",
    "classifiers.append(res)\n",
    "\n",
    "res = train_predict(clf,small_X_train,small_y_train.reshape(small_y_train.shape[0]),X_test,y_test.reshape(y_test.shape[0]))\n",
    "res.insert(0,\"Neural Network\")\n",
    "classifiers.append(res)\n",
    "\n",
    "\n",
    "print\"###############################################################################################\"\n",
    "\n",
    "param_grid = {'gamma':np.logspace(-9, 3, 13), 'C':np.logspace(-2, 10, 13)}\n",
    "#cv = StratifiedShuffleSplit(n_iter=5, test_size=0.2, random_state=42)\n",
    "clf = SVC(kernel='rbf',C=1.0, gamma=0.10000000000000001)\n",
    "\n",
    "res = train_predict(clf,X_train,y_train.reshape(y_train.shape[0]),X_test,y_test.reshape(y_test.shape[0]))\n",
    "res.insert(0,\"SVC\")\n",
    "classifiers.append(res)\n",
    "\n",
    "clf = SVC(kernel='rbf',C=1.0, gamma=0.10000000000000001)\n",
    "res = train_predict(clf,bal_X_train,bal_y_train.reshape(bal_y_train.shape[0]),X_test,y_test.reshape(y_test.shape[0]))\n",
    "res.insert(0,\"SVC\")\n",
    "classifiers.append(res)\n",
    "\n",
    "clf = SVC(kernel='rbf',C=1.0, gamma=0.10000000000000001)\n",
    "res = train_predict(clf,small_X_train,small_y_train.reshape(small_y_train.shape[0]),X_test,y_test.reshape(y_test.shape[0]))\n",
    "res.insert(0,\"SVC\")\n",
    "classifiers.append(res)\n",
    "\n",
    "from tabulate import tabulate\n",
    "print tabulate(classifiers, headers=['Classifier','train_size', 'F1_train', 'F1_test','train_time', 'pred_time'])"
   ]
  },
  {
   "cell_type": "markdown",
   "metadata": {},
   "source": [
    "## 5. Choosing the Best Model\n",
    "\n",
    "- Based on the experiments you performed earlier, in 1-2 paragraphs explain to the board of supervisors what single model you chose as the best model. Which model is generally the most appropriate based on the available data, limited resources, cost, and performance?\n",
    "- In 1-2 paragraphs explain to the board of supervisors in layman's terms how the final model chosen is supposed to work (for example if you chose a Decision Tree or Support Vector Machine, how does it make a prediction).\n",
    "- Fine-tune the model. Use Gridsearch with at least one important parameter tuned and with at least 3 settings. Use the entire training set for this.\n",
    "- What is the model's final F<sub>1</sub> score?"
   ]
  },
  {
   "cell_type": "code",
   "execution_count": 35,
   "metadata": {
    "collapsed": false
   },
   "outputs": [
    {
     "name": "stdout",
     "output_type": "stream",
     "text": [
      "------------------------------------------\n",
      "Training set size: 300\n",
      "Training GridSearchCV...\n",
      "Done!\n",
      "Training time (secs): 95.549\n",
      "Predicting labels using GridSearchCV...\n",
      "Done!\n",
      "Prediction time (secs): 0.007\n",
      "Predicting labels using GridSearchCV...\n",
      "Done!\n",
      "Prediction time (secs): 0.002\n",
      "F1 score for training set: 0.838427947598\n",
      "F1 score for test set: 0.813333333333\n",
      "  train_size    F1_train    F1_test    train_time    pred_time\n",
      "------------  ----------  ---------  ------------  -----------\n",
      "         300    0.838428   0.813333       95.5492   0.00653911\n",
      "{'C': 263.66508987303553, 'gamma': 0.00011288378916846884}\n"
     ]
    }
   ],
   "source": [
    "# TODO: Fine-tune your model and report the best F1 score\n",
    "param_grid = {'gamma':np.logspace(-9, 3, 20), 'C':np.logspace(-2, 10, 20)}\n",
    "scorer = make_scorer(f1_score,greater_is_better=True,needs_proba=False,needs_threshold=False,average='binary')\n",
    "clf = GridSearchCV(SVC(kernel='rbf'), param_grid=param_grid,scoring=scorer,cv=5,n_jobs=16)\n",
    "\n",
    "res = train_predict(clf,X_train,y_train.reshape(y_train.shape[0]),X_test,y_test.reshape(y_test.shape[0]))\n",
    "print tabulate([res], headers=['train_size', 'F1_train', 'F1_test','train_time', 'pred_time'])\n",
    "\n",
    "print clf.best_params_"
   ]
  }
 ],
 "metadata": {
  "kernelspec": {
   "display_name": "Python 2",
   "language": "python2",
   "name": "python2"
  },
  "language_info": {
   "codemirror_mode": {
    "name": "ipython",
    "version": 2
   },
   "file_extension": ".py",
   "mimetype": "text/x-python",
   "name": "python",
   "nbconvert_exporter": "python",
   "pygments_lexer": "ipython2",
   "version": "2.7.11"
  }
 },
 "nbformat": 4,
 "nbformat_minor": 0
}
